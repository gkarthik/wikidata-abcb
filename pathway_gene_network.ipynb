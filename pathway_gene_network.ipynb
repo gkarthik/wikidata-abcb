{
 "cells": [
  {
   "cell_type": "markdown",
   "metadata": {},
   "source": [
    "# Before executing ensure cytoscape is open. \n",
    "### Also note that this code will clear any cytoscape session that is already running "
   ]
  },
  {
   "cell_type": "code",
   "execution_count": 15,
   "metadata": {
    "collapsed": false
   },
   "outputs": [
    {
     "name": "stdout",
     "output_type": "stream",
     "text": [
      "Query returned 0 objects for dTTP\n",
      "Query returned 0 objects for PPi\n",
      "Query returned 0 objects for dATP\n",
      "Query returned 0 objects for MSH2_HUMAN\n",
      "Query returned 0 objects for MSH6_HUMAN\n",
      "Query returned 0 objects for MSH3\n",
      "Query returned 0 objects for dGTP\n",
      "Query returned 0 objects for dCTP\n",
      "Query returned 0 objects for PMS2\n"
     ]
    }
   ],
   "source": [
    "import pandas as pd\n",
    "\n",
    "from string import Template\n",
    "from pandas.io.json import json_normalize\n",
    "from SPARQLWrapper import SPARQLWrapper, JSON\n",
    "\n",
    "def query_wikidata(sparql_query, sparql_service_url):\n",
    "    \"\"\"\n",
    "    Query the endpoint with the given query string and return the results as a pandas Dataframe.\n",
    "    \"\"\"\n",
    "    # create the connection to the endpoint\n",
    "    sparql = SPARQLWrapper(sparql_service_url)\n",
    "    \n",
    "    sparql.setQuery(sparql_query)\n",
    "    sparql.setReturnFormat(JSON)\n",
    "\n",
    "    # ask for the result\n",
    "    result = sparql.query().convert()\n",
    "    return json_normalize(result[\"results\"][\"bindings\"])\n",
    "\n",
    "sparql_wikipathways_url =\"http://sparql.wikipathways.org/\"\n",
    "wikipathway_identifier = \"\"\"WP3381\"\"\" #Identifier for DNA mismatch repair pathway\n",
    "g = \"\"\"MSH1\"\"\"\n",
    "q2 = Template(\"\"\"PREFIX wp:    <http://vocabularies.wikipathways.org/wp#>\n",
    "\n",
    "SELECT DISTINCT ?pathway ?interaction ?participants ?DataNodeLabel\n",
    "WHERE {\n",
    "\n",
    "   ?pathway a wp:Pathway .\n",
    "   ?pathway dc:identifier <http://identifiers.org/wikipathways/$identifier> .\n",
    "   ?interaction dcterms:isPartOf ?pathway . \n",
    "   ?interaction a wp:Interaction .\n",
    "   ?interaction wp:participants ?participants .\n",
    "   ?participants a wp:DataNode .\n",
    "   ?participants rdfs:label ?DataNodeLabel .  \n",
    "}\"\"\")\n",
    "q2 = q2.substitute(identifier = wikipathway_identifier)\n",
    "mmr = query_wikidata(q2, sparql_wikipathways_url)\n",
    "gene_list = []\n",
    "p = pd.DataFrame()\n",
    "for i in set(mmr['DataNodeLabel.value'].tolist()):\n",
    "    if \" \" in i or \",\" in i or \":\" in i:\n",
    "        continue\n",
    "    gene = i\n",
    "    q = Template(\"\"\"PREFIX wp:      <http://vocabularies.wikipathways.org/wp#>\n",
    "    PREFIX rdfs:    <http://www.w3.org/2000/01/rdf-schema#>\n",
    "    PREFIX dcterms: <http://purl.org/dc/terms/>\n",
    "\n",
    "    SELECT DISTINCT ?pathway str(?label) as ?geneProduct ?pwTitle\n",
    "    WHERE {\n",
    "         ?pathway dc:title ?pwTitle .\n",
    "         ?pathway wp:organismName \"Homo sapiens\"^^xsd:string .\n",
    "        ?geneProduct a wp:GeneProduct . \n",
    "        ?geneProduct rdfs:label ?label .\n",
    "        ?geneProduct dcterms:isPartOf ?pathway .\n",
    "        FILTER regex(str(?label), \"$gene\"). \n",
    "    }\"\"\")\n",
    "    q = q.substitute(gene=gene)\n",
    "    try:\n",
    "        p = pd.concat([p,query_wikidata(q, sparql_wikipathways_url)])\n",
    "        gene_list.append(gene)\n",
    "    except:\n",
    "        print(\"Query returned 0 objects for \"+gene)"
   ]
  },
  {
   "cell_type": "code",
   "execution_count": 16,
   "metadata": {
    "collapsed": false
   },
   "outputs": [],
   "source": [
    "p = p.reset_index(drop = True)\n",
    "p = p[p['geneProduct.value'].isin(gene_list)]\n",
    "p = p.sort_values(['geneProduct.value', 'pwTitle.value'])\n",
    "#remove pathways inferred from homo sapien pathways\n",
    "gene_len = len(p.index.values) - 1\n",
    "\n",
    "i1 = ''\n",
    "i2 = ''\n",
    "for i in range(0, gene_len):\n",
    "    if i1 == gene_len:\n",
    "        continue\n",
    "    i1 = p.index.values[i]\n",
    "    i2 = p.index.values[i+1]\n",
    "    g1 = p.ix[i1, 'geneProduct.value']\n",
    "    p1 = p.ix[i1, 'pwTitle.value']\n",
    "    g2 = p.ix[i2, 'geneProduct.value']\n",
    "    p2 = p.ix[i2, 'pwTitle.value']\n",
    "    if g1 == g2 and p1 == p2:\n",
    "        p = p.drop(i2)\n",
    "        gene_len -= 1\n",
    "        i-=1"
   ]
  },
  {
   "cell_type": "code",
   "execution_count": 20,
   "metadata": {
    "collapsed": false
   },
   "outputs": [],
   "source": [
    "cy_df = pd.DataFrame(columns = [\"source\", \"interaction\", \"target\"])\n",
    "source_node = []\n",
    "edge_type = []\n",
    "target_node = []\n",
    "for i in gene_list:\n",
    "    source_node.append(\"Mismatch Repair\")\n",
    "    edge_type.append(\"Pathway-Gene\")\n",
    "    target_node.append(i)\n",
    "for index, i in enumerate(p['geneProduct.value']):\n",
    "    pathway = p.ix[p.index.values[index], 'pwTitle.value']\n",
    "    if pathway == 'Mismatch repair':\n",
    "        continue\n",
    "    source_node.append(i)\n",
    "    edge_type.append(\"Gene-Pathway\")\n",
    "    target_node.append(p.ix[p.index.values[index], 'pwTitle.value'])\n",
    "cy_df['source'] = source_node\n",
    "cy_df['interaction'] = edge_type\n",
    "cy_df['target'] = target_node\n",
    "\n",
    "nodes = source_node\n",
    "nodes.extend(target_node)\n",
    "node_df = pd.DataFrame(columns = ['node','type'])\n",
    "types = []\n",
    "for i in nodes:\n",
    "    if i in mmr['DataNodeLabel.value'].tolist():\n",
    "        types.append('Gene')\n",
    "    else:\n",
    "        types.append('Pathway')\n",
    "node_df['node'] = nodes\n",
    "node_df['type'] = types"
   ]
  },
  {
   "cell_type": "code",
   "execution_count": 21,
   "metadata": {
    "collapsed": true
   },
   "outputs": [],
   "source": [
    "from py2cytoscape.data.cyrest_client import CyRestClient\n",
    "\n",
    "cy = CyRestClient()\n",
    "cy.session.delete()\n",
    "net = cy.network.create_from_dataframe(cy_df, name='Gene pathway interactions')\n",
    "cy.layout.apply(name='force-directed-cl', network=net)\n",
    "net.update_node_table(node_df, network_key_col='name', data_key_col='node')\n",
    "\n",
    "my_style = cy.style.create('Minimal')\n",
    "new = {\n",
    "    # Node defaults\n",
    "    'NODE_FILL_COLOR': '#eeeeff',\n",
    "    'NODE_SIZE': 20,\n",
    "    'NODE_BORDER_WIDTH': 0,\n",
    "    'NODE_TRANSPARENCY': 120,\n",
    "    'NODE_LABEL_COLOR': 'white',\n",
    "    ''\n",
    "    \n",
    "    # Edge defaults\n",
    "    'EDGE_WIDTH': 3,\n",
    "    'EDGE_STROKE_UNSELECTED_PAINT': '#aaaaaa',\n",
    "    'EDGE_LINE_TYPE': 'SOLID',\n",
    "    'EDGE_TRANSPARENCY': 120,\n",
    "    \n",
    "    # Network defaults\n",
    "    'NETWORK_BACKGROUND_PAINT': 'black'\n",
    "}\n",
    "kv_pair = {\n",
    "    'Gene-Pathway': 'yellow',\n",
    "    'Pathway-Gene': 'lightblue'\n",
    "}\n",
    "my_style.create_discrete_mapping(column='interaction', \n",
    "                               col_type='String', vp='EDGE_STROKE_UNSELECTED_PAINT', mappings=kv_pair)\n",
    "node_pair = {\n",
    "    'Gene': 'lightgreen',\n",
    "    'Pathway': 'pink'\n",
    "}\n",
    "my_style.create_discrete_mapping(column='type', \n",
    "                               col_type='String', vp='NODE_FILL_COLOR', mappings=node_pair)\n",
    "my_style.update_defaults(new)\n",
    "cy.style.apply(my_style, net)\n"
   ]
  },
  {
   "cell_type": "code",
   "execution_count": null,
   "metadata": {
    "collapsed": true
   },
   "outputs": [],
   "source": []
  }
 ],
 "metadata": {
  "kernelspec": {
   "display_name": "Python 3",
   "language": "python",
   "name": "python3"
  },
  "language_info": {
   "codemirror_mode": {
    "name": "ipython",
    "version": 3
   },
   "file_extension": ".py",
   "mimetype": "text/x-python",
   "name": "python",
   "nbconvert_exporter": "python",
   "pygments_lexer": "ipython3",
   "version": "3.5.1"
  }
 },
 "nbformat": 4,
 "nbformat_minor": 0
}
